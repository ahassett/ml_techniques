{
 "cells": [
  {
   "cell_type": "markdown",
   "metadata": {},
   "source": [
    "## Numerical Transformation\n"
   ]
  },
  {
   "cell_type": "code",
   "execution_count": 12,
   "metadata": {},
   "outputs": [],
   "source": [
    "import pandas as pd\n",
    "import numpy as np\n",
    "import matplotlib.pyplot as plt"
   ]
  },
  {
   "cell_type": "markdown",
   "metadata": {},
   "source": [
    "`Numerical transformation` is when we take our numerical data and change it into another numerical value. This is meant to change the scale of our values or even adjust the skewness of our data.\n",
    "\n",
    "You may be thinking, “we already have our data in numbers. Why would we want to change those?” Well, first of all, that is a great question. We’ll dive deep into the “why we do this” throughout this lesson. To put it simply, we do this to help our model better compare features and, most importantly, improve our model’s accuracy and interpretability. That sounds like some good reasons to put the time and effort into numerical transformations if I do say so myself.\n",
    "\n",
    "We’ll focus on the following numerical transformations:\n",
    "\n",
    "- Centering\n",
    "- Standard Scaler\n",
    "- Min and Max Scaler\n",
    "- Binning\n",
    "- Log transformations\n"
   ]
  },
  {
   "cell_type": "markdown",
   "metadata": {},
   "source": [
    "### Explore the data\n"
   ]
  },
  {
   "cell_type": "code",
   "execution_count": 2,
   "metadata": {},
   "outputs": [],
   "source": [
    "coffee = pd.read_csv(\"starbucks_customers.csv\")"
   ]
  },
  {
   "cell_type": "code",
   "execution_count": 3,
   "metadata": {},
   "outputs": [
    {
     "data": {
      "text/html": [
       "<div>\n",
       "<style scoped>\n",
       "    .dataframe tbody tr th:only-of-type {\n",
       "        vertical-align: middle;\n",
       "    }\n",
       "\n",
       "    .dataframe tbody tr th {\n",
       "        vertical-align: top;\n",
       "    }\n",
       "\n",
       "    .dataframe thead th {\n",
       "        text-align: right;\n",
       "    }\n",
       "</style>\n",
       "<table border=\"1\" class=\"dataframe\">\n",
       "  <thead>\n",
       "    <tr style=\"text-align: right;\">\n",
       "      <th></th>\n",
       "      <th>spent</th>\n",
       "      <th>nearest_starbucks</th>\n",
       "      <th>age</th>\n",
       "      <th>rate_quality</th>\n",
       "      <th>rate_price</th>\n",
       "      <th>rate_promo</th>\n",
       "      <th>ambiance</th>\n",
       "      <th>wifi</th>\n",
       "      <th>service</th>\n",
       "      <th>meetings_hangout</th>\n",
       "    </tr>\n",
       "  </thead>\n",
       "  <tbody>\n",
       "    <tr>\n",
       "      <th>0</th>\n",
       "      <td>13</td>\n",
       "      <td>8</td>\n",
       "      <td>52</td>\n",
       "      <td>4</td>\n",
       "      <td>4</td>\n",
       "      <td>4</td>\n",
       "      <td>4</td>\n",
       "      <td>4</td>\n",
       "      <td>4</td>\n",
       "      <td>4</td>\n",
       "    </tr>\n",
       "    <tr>\n",
       "      <th>1</th>\n",
       "      <td>25</td>\n",
       "      <td>8</td>\n",
       "      <td>35</td>\n",
       "      <td>4</td>\n",
       "      <td>5</td>\n",
       "      <td>5</td>\n",
       "      <td>4</td>\n",
       "      <td>4</td>\n",
       "      <td>3</td>\n",
       "      <td>3</td>\n",
       "    </tr>\n",
       "    <tr>\n",
       "      <th>2</th>\n",
       "      <td>10</td>\n",
       "      <td>8</td>\n",
       "      <td>29</td>\n",
       "      <td>2</td>\n",
       "      <td>1</td>\n",
       "      <td>5</td>\n",
       "      <td>2</td>\n",
       "      <td>2</td>\n",
       "      <td>2</td>\n",
       "      <td>2</td>\n",
       "    </tr>\n",
       "    <tr>\n",
       "      <th>3</th>\n",
       "      <td>7</td>\n",
       "      <td>8</td>\n",
       "      <td>28</td>\n",
       "      <td>4</td>\n",
       "      <td>1</td>\n",
       "      <td>4</td>\n",
       "      <td>5</td>\n",
       "      <td>3</td>\n",
       "      <td>3</td>\n",
       "      <td>4</td>\n",
       "    </tr>\n",
       "    <tr>\n",
       "      <th>4</th>\n",
       "      <td>10</td>\n",
       "      <td>8</td>\n",
       "      <td>28</td>\n",
       "      <td>4</td>\n",
       "      <td>2</td>\n",
       "      <td>4</td>\n",
       "      <td>4</td>\n",
       "      <td>3</td>\n",
       "      <td>4</td>\n",
       "      <td>3</td>\n",
       "    </tr>\n",
       "  </tbody>\n",
       "</table>\n",
       "</div>"
      ],
      "text/plain": [
       "   spent  nearest_starbucks  age  rate_quality  rate_price  rate_promo  \\\n",
       "0     13                  8   52             4           4           4   \n",
       "1     25                  8   35             4           5           5   \n",
       "2     10                  8   29             2           1           5   \n",
       "3      7                  8   28             4           1           4   \n",
       "4     10                  8   28             4           2           4   \n",
       "\n",
       "   ambiance  wifi  service  meetings_hangout  \n",
       "0         4     4        4                 4  \n",
       "1         4     4        3                 3  \n",
       "2         2     2        2                 2  \n",
       "3         5     3        3                 4  \n",
       "4         4     3        4                 3  "
      ]
     },
     "execution_count": 3,
     "metadata": {},
     "output_type": "execute_result"
    }
   ],
   "source": [
    "coffee.head()"
   ]
  },
  {
   "cell_type": "code",
   "execution_count": 4,
   "metadata": {},
   "outputs": [
    {
     "name": "stdout",
     "output_type": "stream",
     "text": [
      "<class 'pandas.core.frame.DataFrame'>\n",
      "RangeIndex: 122 entries, 0 to 121\n",
      "Data columns (total 10 columns):\n",
      " #   Column             Non-Null Count  Dtype\n",
      "---  ------             --------------  -----\n",
      " 0   spent              122 non-null    int64\n",
      " 1   nearest_starbucks  122 non-null    int64\n",
      " 2   age                122 non-null    int64\n",
      " 3   rate_quality       122 non-null    int64\n",
      " 4   rate_price         122 non-null    int64\n",
      " 5   rate_promo         122 non-null    int64\n",
      " 6   ambiance           122 non-null    int64\n",
      " 7   wifi               122 non-null    int64\n",
      " 8   service            122 non-null    int64\n",
      " 9   meetings_hangout   122 non-null    int64\n",
      "dtypes: int64(10)\n",
      "memory usage: 9.7 KB\n"
     ]
    }
   ],
   "source": [
    "coffee.info()"
   ]
  },
  {
   "cell_type": "code",
   "execution_count": 45,
   "metadata": {},
   "outputs": [
    {
     "data": {
      "text/plain": [
       "spent                   int64\n",
       "nearest_starbucks       int64\n",
       "age                     int64\n",
       "rate_quality            int64\n",
       "rate_price              int64\n",
       "rate_promo              int64\n",
       "ambiance                int64\n",
       "wifi                    int64\n",
       "service                 int64\n",
       "meetings_hangout        int64\n",
       "binned_ages          category\n",
       "dtype: object"
      ]
     },
     "execution_count": 45,
     "metadata": {},
     "output_type": "execute_result"
    }
   ],
   "source": [
    "coffee.dtypes"
   ]
  },
  {
   "cell_type": "markdown",
   "metadata": {},
   "source": [
    "### Centering the data\n",
    "\n",
    "Data centering involves subtracting the mean of a data set from each data point so that the new mean is 0. This process helps us understand how far above or below each of our data points is from the mean.\n"
   ]
  },
  {
   "cell_type": "code",
   "execution_count": 9,
   "metadata": {},
   "outputs": [
    {
     "data": {
      "text/plain": [
       "0      52\n",
       "1      35\n",
       "2      29\n",
       "3      28\n",
       "4      28\n",
       "       ..\n",
       "117    22\n",
       "118    22\n",
       "119    20\n",
       "120    20\n",
       "121    14\n",
       "Name: age, Length: 122, dtype: int64"
      ]
     },
     "execution_count": 9,
     "metadata": {},
     "output_type": "execute_result"
    }
   ],
   "source": [
    "ages = coffee[\"age\"]\n",
    "ages"
   ]
  },
  {
   "cell_type": "code",
   "execution_count": 17,
   "metadata": {},
   "outputs": [
    {
     "data": {
      "text/plain": [
       "27.33606557377049"
      ]
     },
     "execution_count": 17,
     "metadata": {},
     "output_type": "execute_result"
    }
   ],
   "source": [
    "mean_age = np.mean(ages)\n",
    "mean_age"
   ]
  },
  {
   "cell_type": "code",
   "execution_count": 18,
   "metadata": {},
   "outputs": [
    {
     "data": {
      "text/plain": [
       "0      24.663934\n",
       "1       7.663934\n",
       "2       1.663934\n",
       "3       0.663934\n",
       "4       0.663934\n",
       "         ...    \n",
       "117    -5.336066\n",
       "118    -5.336066\n",
       "119    -7.336066\n",
       "120    -7.336066\n",
       "121   -13.336066\n",
       "Name: age, Length: 122, dtype: float64"
      ]
     },
     "execution_count": 18,
     "metadata": {},
     "output_type": "execute_result"
    }
   ],
   "source": [
    "centered_ages = ages - mean_age\n",
    "centered_ages"
   ]
  },
  {
   "cell_type": "code",
   "execution_count": 13,
   "metadata": {},
   "outputs": [
    {
     "data": {
      "image/png": "[encoded data removed]",
      "text/plain": [
       "<Figure size 640x480 with 1 Axes>"
      ]
     },
     "metadata": {},
     "output_type": "display_data"
    }
   ],
   "source": [
    "plt.hist(centered_ages)\n",
    "plt.show()"
   ]
  },
  {
   "cell_type": "markdown",
   "metadata": {},
   "source": [
    "### Standardize data\n",
    "\n",
    "Standardization (also known as Z-Score normalization) is when we center our data, then divide it by the standard deviation. Once we do that, our entire data set will have a mean of zero and a standard deviation of one. This allows all of our features to be on the same scale.\n",
    "\n",
    "This step is critical because some machine learning models will treat all features equally regardless of their scale. You’ll definitely want to standardize your data in the following situations:\n",
    "\n",
    "- Before Principal Component Analysis\n",
    "- Before using any clustering or distance based algorithm (think KMeans or DBSCAN)\n",
    "- Before KNN\n",
    "- Before performing regularization methods like LASSO and Ridge\n",
    "\n",
    "z = (value - mean) / stdev\n"
   ]
  },
  {
   "cell_type": "code",
   "execution_count": 15,
   "metadata": {},
   "outputs": [
    {
     "data": {
      "text/plain": [
       "9.428428111378789"
      ]
     },
     "execution_count": 15,
     "metadata": {},
     "output_type": "execute_result"
    }
   ],
   "source": [
    "std_dev_age = np.std(ages)\n",
    "std_dev_age"
   ]
  },
  {
   "cell_type": "code",
   "execution_count": 19,
   "metadata": {},
   "outputs": [
    {
     "data": {
      "text/plain": [
       "0      2.615912\n",
       "1      0.812854\n",
       "2      0.176481\n",
       "3      0.070418\n",
       "4      0.070418\n",
       "         ...   \n",
       "117   -0.565955\n",
       "118   -0.565955\n",
       "119   -0.778079\n",
       "120   -0.778079\n",
       "121   -1.414453\n",
       "Name: age, Length: 122, dtype: float64"
      ]
     },
     "execution_count": 19,
     "metadata": {},
     "output_type": "execute_result"
    }
   ],
   "source": [
    "ages_standardized = (ages - mean_age) / std_dev_age\n",
    "ages_standardized"
   ]
  },
  {
   "cell_type": "markdown",
   "metadata": {},
   "source": [
    "Standardized datasets have a mean of 0 and a standard deviation of 1.\n"
   ]
  },
  {
   "cell_type": "code",
   "execution_count": 20,
   "metadata": {},
   "outputs": [
    {
     "name": "stdout",
     "output_type": "stream",
     "text": [
      "1.7290358580227847e-16 0.9999999999999999\n"
     ]
    }
   ],
   "source": [
    "print(np.mean(ages_standardized), np.std(ages_standardized))"
   ]
  },
  {
   "cell_type": "markdown",
   "metadata": {},
   "source": [
    "### Standardizing data with sklearn\n",
    "\n",
    "Now that we understand the mathematics behind a standard scaler let’s quickly implement it with the sklearn library. We will begin by importing our `StandardScaler` library from `sklearn.preprocessing`.\n"
   ]
  },
  {
   "cell_type": "code",
   "execution_count": 22,
   "metadata": {},
   "outputs": [],
   "source": [
    "from sklearn.preprocessing import StandardScaler"
   ]
  },
  {
   "cell_type": "code",
   "execution_count": 23,
   "metadata": {},
   "outputs": [],
   "source": [
    "scaler = StandardScaler()"
   ]
  },
  {
   "cell_type": "code",
   "execution_count": 24,
   "metadata": {},
   "outputs": [
    {
     "data": {
      "text/plain": [
       "array([[52],\n",
       "       [35],\n",
       "       [29],\n",
       "       [28],\n",
       "       [28],\n",
       "       [28],\n",
       "       [27],\n",
       "       [26],\n",
       "       [26],\n",
       "       [26],\n",
       "       [51],\n",
       "       [26],\n",
       "       [22],\n",
       "       [21],\n",
       "       [17],\n",
       "       [15],\n",
       "       [13],\n",
       "       [65],\n",
       "       [42],\n",
       "       [35],\n",
       "       [29],\n",
       "       [29],\n",
       "       [27],\n",
       "       [23],\n",
       "       [21],\n",
       "       [70],\n",
       "       [41],\n",
       "       [40],\n",
       "       [37],\n",
       "       [34],\n",
       "       [25],\n",
       "       [23],\n",
       "       [20],\n",
       "       [20],\n",
       "       [20],\n",
       "       [14],\n",
       "       [28],\n",
       "       [38],\n",
       "       [32],\n",
       "       [29],\n",
       "       [23],\n",
       "       [23],\n",
       "       [23],\n",
       "       [21],\n",
       "       [20],\n",
       "       [19],\n",
       "       [15],\n",
       "       [15],\n",
       "       [23],\n",
       "       [22],\n",
       "       [16],\n",
       "       [26],\n",
       "       [20],\n",
       "       [52],\n",
       "       [32],\n",
       "       [29],\n",
       "       [24],\n",
       "       [23],\n",
       "       [24],\n",
       "       [22],\n",
       "       [21],\n",
       "       [16],\n",
       "       [23],\n",
       "       [22],\n",
       "       [30],\n",
       "       [44],\n",
       "       [38],\n",
       "       [31],\n",
       "       [30],\n",
       "       [29],\n",
       "       [28],\n",
       "       [25],\n",
       "       [25],\n",
       "       [24],\n",
       "       [22],\n",
       "       [21],\n",
       "       [20],\n",
       "       [20],\n",
       "       [19],\n",
       "       [17],\n",
       "       [13],\n",
       "       [45],\n",
       "       [42],\n",
       "       [40],\n",
       "       [38],\n",
       "       [27],\n",
       "       [27],\n",
       "       [26],\n",
       "       [26],\n",
       "       [26],\n",
       "       [23],\n",
       "       [23],\n",
       "       [23],\n",
       "       [22],\n",
       "       [21],\n",
       "       [41],\n",
       "       [38],\n",
       "       [34],\n",
       "       [34],\n",
       "       [33],\n",
       "       [31],\n",
       "       [29],\n",
       "       [29],\n",
       "       [29],\n",
       "       [28],\n",
       "       [28],\n",
       "       [27],\n",
       "       [27],\n",
       "       [26],\n",
       "       [26],\n",
       "       [26],\n",
       "       [26],\n",
       "       [24],\n",
       "       [24],\n",
       "       [22],\n",
       "       [22],\n",
       "       [22],\n",
       "       [22],\n",
       "       [22],\n",
       "       [20],\n",
       "       [20],\n",
       "       [14]])"
      ]
     },
     "execution_count": 24,
     "metadata": {},
     "output_type": "execute_result"
    }
   ],
   "source": [
    "ages_reshaped = np.array(ages).reshape(-1, 1)\n",
    "ages_reshaped"
   ]
  },
  {
   "cell_type": "code",
   "execution_count": 25,
   "metadata": {},
   "outputs": [
    {
     "data": {
      "text/plain": [
       "array([[ 2.6159116 ],\n",
       "       [ 0.81285389],\n",
       "       [ 0.17648058],\n",
       "       [ 0.07041836],\n",
       "       [ 0.07041836],\n",
       "       [ 0.07041836],\n",
       "       [-0.03564386],\n",
       "       [-0.14170608],\n",
       "       [-0.14170608],\n",
       "       [-0.14170608],\n",
       "       [ 2.50984938],\n",
       "       [-0.14170608],\n",
       "       [-0.56595495],\n",
       "       [-0.67201717],\n",
       "       [-1.09626604],\n",
       "       [-1.30839048],\n",
       "       [-1.52051492],\n",
       "       [ 3.99472043],\n",
       "       [ 1.55528941],\n",
       "       [ 0.81285389],\n",
       "       [ 0.17648058],\n",
       "       [ 0.17648058],\n",
       "       [-0.03564386],\n",
       "       [-0.45989273],\n",
       "       [-0.67201717],\n",
       "       [ 4.52503152],\n",
       "       [ 1.4492272 ],\n",
       "       [ 1.34316498],\n",
       "       [ 1.02497832],\n",
       "       [ 0.70679167],\n",
       "       [-0.2477683 ],\n",
       "       [-0.45989273],\n",
       "       [-0.77807939],\n",
       "       [-0.77807939],\n",
       "       [-0.77807939],\n",
       "       [-1.4144527 ],\n",
       "       [ 0.07041836],\n",
       "       [ 1.13104054],\n",
       "       [ 0.49466723],\n",
       "       [ 0.17648058],\n",
       "       [-0.45989273],\n",
       "       [-0.45989273],\n",
       "       [-0.45989273],\n",
       "       [-0.67201717],\n",
       "       [-0.77807939],\n",
       "       [-0.88414161],\n",
       "       [-1.30839048],\n",
       "       [-1.30839048],\n",
       "       [-0.45989273],\n",
       "       [-0.56595495],\n",
       "       [-1.20232826],\n",
       "       [-0.14170608],\n",
       "       [-0.77807939],\n",
       "       [ 2.6159116 ],\n",
       "       [ 0.49466723],\n",
       "       [ 0.17648058],\n",
       "       [-0.35383051],\n",
       "       [-0.45989273],\n",
       "       [-0.35383051],\n",
       "       [-0.56595495],\n",
       "       [-0.67201717],\n",
       "       [-1.20232826],\n",
       "       [-0.45989273],\n",
       "       [-0.56595495],\n",
       "       [ 0.28254279],\n",
       "       [ 1.76741385],\n",
       "       [ 1.13104054],\n",
       "       [ 0.38860501],\n",
       "       [ 0.28254279],\n",
       "       [ 0.17648058],\n",
       "       [ 0.07041836],\n",
       "       [-0.2477683 ],\n",
       "       [-0.2477683 ],\n",
       "       [-0.35383051],\n",
       "       [-0.56595495],\n",
       "       [-0.67201717],\n",
       "       [-0.77807939],\n",
       "       [-0.77807939],\n",
       "       [-0.88414161],\n",
       "       [-1.09626604],\n",
       "       [-1.52051492],\n",
       "       [ 1.87347607],\n",
       "       [ 1.55528941],\n",
       "       [ 1.34316498],\n",
       "       [ 1.13104054],\n",
       "       [-0.03564386],\n",
       "       [-0.03564386],\n",
       "       [-0.14170608],\n",
       "       [-0.14170608],\n",
       "       [-0.14170608],\n",
       "       [-0.45989273],\n",
       "       [-0.45989273],\n",
       "       [-0.45989273],\n",
       "       [-0.56595495],\n",
       "       [-0.67201717],\n",
       "       [ 1.4492272 ],\n",
       "       [ 1.13104054],\n",
       "       [ 0.70679167],\n",
       "       [ 0.70679167],\n",
       "       [ 0.60072945],\n",
       "       [ 0.38860501],\n",
       "       [ 0.17648058],\n",
       "       [ 0.17648058],\n",
       "       [ 0.17648058],\n",
       "       [ 0.07041836],\n",
       "       [ 0.07041836],\n",
       "       [-0.03564386],\n",
       "       [-0.03564386],\n",
       "       [-0.14170608],\n",
       "       [-0.14170608],\n",
       "       [-0.14170608],\n",
       "       [-0.14170608],\n",
       "       [-0.35383051],\n",
       "       [-0.35383051],\n",
       "       [-0.56595495],\n",
       "       [-0.56595495],\n",
       "       [-0.56595495],\n",
       "       [-0.56595495],\n",
       "       [-0.56595495],\n",
       "       [-0.77807939],\n",
       "       [-0.77807939],\n",
       "       [-1.4144527 ]])"
      ]
     },
     "execution_count": 25,
     "metadata": {},
     "output_type": "execute_result"
    }
   ],
   "source": [
    "ages_scaled = scaler.fit_transform(ages_reshaped)\n",
    "ages_scaled"
   ]
  },
  {
   "cell_type": "markdown",
   "metadata": {},
   "source": [
    "Confirm mean equals to 0, and standard deviation to 1.\n"
   ]
  },
  {
   "cell_type": "code",
   "execution_count": 26,
   "metadata": {},
   "outputs": [
    {
     "name": "stdout",
     "output_type": "stream",
     "text": [
      "1.7290358580227847e-16 0.9999999999999999\n"
     ]
    }
   ],
   "source": [
    "print(np.mean(ages_scaled), np.std(ages_scaled))"
   ]
  },
  {
   "cell_type": "markdown",
   "metadata": {},
   "source": [
    "### Min-Max normalization\n",
    "\n",
    "Another form of scaling your data is to use a min-max normalization process. The name says it all, we find the minimum and maximum data point in our entire data set and set each of those to 0 and 1, respectively. Then the rest of the data points will transform to a number between 0 and 1, depending on its distance between the minimum and maximum number. We find that transformed number by taking the data point subtracting it from the minimum point, then dividing by the value of our maximum minus minimum.\n",
    "\n",
    "One thing to note about min-max normalization is that **this transformation does not work well with data that has extreme outliers.**\n",
    "\n",
    "You will want to perform a min-max normalization if the range between your min and max point is not too drastic.\n",
    "\n",
    "The reason we would want to normalize our data is very similar to why we would want to standardize our data - getting everything on the same scale.\n",
    "\n",
    "We’d do this process to our entire data set, but lets look at our distance to a nearest Starbucks feature. We already know from earlier in this lesson that our range in this feature is not too large, so it is a good candidate for a min-max normalization. We’ll write a function that will perform the mathematics needed to transform the entire column.\n"
   ]
  },
  {
   "cell_type": "code",
   "execution_count": 27,
   "metadata": {},
   "outputs": [
    {
     "data": {
      "text/plain": [
       "0      0.684211\n",
       "1      0.385965\n",
       "2      0.280702\n",
       "3      0.263158\n",
       "4      0.263158\n",
       "         ...   \n",
       "117    0.157895\n",
       "118    0.157895\n",
       "119    0.122807\n",
       "120    0.122807\n",
       "121    0.017544\n",
       "Name: age, Length: 122, dtype: float64"
      ]
     },
     "execution_count": 27,
     "metadata": {},
     "output_type": "execute_result"
    }
   ],
   "source": [
    "ages_normalized = (ages - min(ages)) / (max(ages) - min(ages))\n",
    "ages_normalized"
   ]
  },
  {
   "cell_type": "code",
   "execution_count": 30,
   "metadata": {},
   "outputs": [
    {
     "name": "stdout",
     "output_type": "stream",
     "text": [
      "1.0 0.0\n"
     ]
    }
   ],
   "source": [
    "print(max(ages_normalized), min(ages_normalized))"
   ]
  },
  {
   "cell_type": "markdown",
   "metadata": {},
   "source": [
    "### Min-Max Normalization with sklearn\n"
   ]
  },
  {
   "cell_type": "code",
   "execution_count": 41,
   "metadata": {},
   "outputs": [],
   "source": [
    "from sklearn.preprocessing import MinMaxScaler"
   ]
  },
  {
   "cell_type": "code",
   "execution_count": 42,
   "metadata": {},
   "outputs": [],
   "source": [
    "mmscaler = MinMaxScaler()"
   ]
  },
  {
   "cell_type": "code",
   "execution_count": 43,
   "metadata": {},
   "outputs": [],
   "source": [
    "ages_reshaped = np.array(ages).reshape(-1, 1)"
   ]
  },
  {
   "cell_type": "code",
   "execution_count": 44,
   "metadata": {},
   "outputs": [
    {
     "name": "stdout",
     "output_type": "stream",
     "text": [
      "0.0 0.9999999999999998\n"
     ]
    }
   ],
   "source": [
    "reshaped_scaled = mmscaler.fit_transform(ages_reshaped)\n",
    "print(np.min(reshaped_scaled), np.max(reshaped_scaled))"
   ]
  },
  {
   "cell_type": "markdown",
   "metadata": {},
   "source": [
    "### Binning our data\n",
    "\n",
    "Binning data is the process of taking numerical or categorical data and breaking it up into groups. We could decide to bin our data to help capture patterns in noisy data. There isn’t a clean and fast rule about how to bin your data, but like so many things in machine learning, you need to be aware of the trade-offs.\n",
    "\n",
    "You want to make sure that your bin ranges aren’t so small that your model is still seeing it as noisy data. Then you also want to make sure that the bin ranges are not so large that your model is unable to pick up on any pattern.\n",
    "\n",
    "It is a delicate decision to make and will depend on the data you are working with.\n"
   ]
  },
  {
   "cell_type": "code",
   "execution_count": 36,
   "metadata": {},
   "outputs": [],
   "source": [
    "age_bins = [12, 20, 30, 40, 71]"
   ]
  },
  {
   "cell_type": "code",
   "execution_count": 39,
   "metadata": {},
   "outputs": [
    {
     "data": {
      "text/plain": [
       "0      [40, 71)\n",
       "1      [30, 40)\n",
       "2      [20, 30)\n",
       "3      [20, 30)\n",
       "4      [20, 30)\n",
       "         ...   \n",
       "117    [20, 30)\n",
       "118    [20, 30)\n",
       "119    [20, 30)\n",
       "120    [20, 30)\n",
       "121    [12, 20)\n",
       "Name: binned_ages, Length: 122, dtype: category\n",
       "Categories (4, interval[int64, left]): [[12, 20) < [20, 30) < [30, 40) < [40, 71)]"
      ]
     },
     "execution_count": 39,
     "metadata": {},
     "output_type": "execute_result"
    }
   ],
   "source": [
    "coffee[\"binned_ages\"] = pd.cut(coffee[\"age\"], age_bins, right=False)\n",
    "coffee[\"binned_ages\"]"
   ]
  },
  {
   "cell_type": "code",
   "execution_count": 40,
   "metadata": {},
   "outputs": [
    {
     "data": {
      "image/png": "[encoded data removed]",
      "text/plain": [
       "<Figure size 640x480 with 1 Axes>"
      ]
     },
     "metadata": {},
     "output_type": "display_data"
    }
   ],
   "source": [
    "coffee[\"binned_ages\"].value_counts().plot(kind=\"bar\")\n",
    "plt.show()"
   ]
  },
  {
   "cell_type": "markdown",
   "metadata": {},
   "source": [
    "### Natural log transformation\n",
    "\n",
    "We’ve covered plenty of transformations! We have one last transformation we need to cover, and that is log transformations. Logarithms are an essential tool in statistical analysis and machine learning preparation.\n",
    "\n",
    "**This transformation works well for right-skewed data and data with large outliers.** After we log transform our data, one large benefit is that it will allow the data to be closer to a “normal” distribution. It also changes the scale so our data points will drastically reduce the range of their values.\n",
    "\n",
    "Before we have you start testing your new skills let’s quickly cover two major topics with log transformation:\n",
    "\n",
    "1. Using a log transformation in a machine learning model will require some extra interpretation. For example, if you were to log transform your data in a linear regression model, our independent variable has a multiplication relationship with our dependent variable instead of the usual additive relationship we would have if our data was not log-transformed.\n",
    "\n",
    "2. Keep in mind, just because your data is skewed does not mean that a log transformation is the best answer. You would not want to log transform your feature if:\n",
    "\n",
    "- You have values less than 0. The natural logarithm (which is what we’ve been talking about) of a negative number is undefined.\n",
    "- You have left-skewed data. That data may call for a square or cube transformation.\n",
    "- You have non-parametric data\n"
   ]
  },
  {
   "cell_type": "code",
   "execution_count": null,
   "metadata": {},
   "outputs": [],
   "source": []
  }
 ],
 "metadata": {
  "language_info": {
   "name": "python"
  }
 },
 "nbformat": 4,
 "nbformat_minor": 2
}
